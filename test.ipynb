{
 "cells": [
  {
   "cell_type": "code",
   "execution_count": 1,
   "id": "49e44ab9-1e7d-4b53-9bea-70416d675fc3",
   "metadata": {},
   "outputs": [],
   "source": [
    "import numpy as np\n",
    "import pandas as pd\n",
    "from string import ascii_uppercase"
   ]
  },
  {
   "cell_type": "markdown",
   "id": "e5d787d0-1b48-46b1-b4e4-3f32030dc14d",
   "metadata": {},
   "source": [
    "# исходный датасет"
   ]
  },
  {
   "cell_type": "code",
   "execution_count": 2,
   "id": "fc61049c-f40a-485f-85e9-18a9dadfb868",
   "metadata": {
    "tags": []
   },
   "outputs": [],
   "source": [
    "#date_range = pd.date_range(start='2023-01-01', end='2023-12-31', freq='S')"
   ]
  },
  {
   "cell_type": "code",
   "execution_count": 3,
   "id": "1df3e48c-4cb5-4f63-8d64-2211cc79fde1",
   "metadata": {
    "tags": []
   },
   "outputs": [
    {
     "name": "stderr",
     "output_type": "stream",
     "text": [
      "/var/folders/tq/ktg80txs4l321g9zq30s4dm00000gp/T/ipykernel_6145/826562287.py:1: FutureWarning: 'S' is deprecated and will be removed in a future version, please use 's' instead.\n",
      "  date_range = pd.date_range(start='2023-01-01', end='2023-12-31', freq='S')\n"
     ]
    }
   ],
   "source": [
    "date_range = pd.date_range(start='2023-01-01', end='2023-12-31', freq='S')"
   ]
  },
  {
   "cell_type": "code",
   "execution_count": 4,
   "id": "b090cbba-d8d3-487f-a455-fd9b0ec047aa",
   "metadata": {
    "tags": []
   },
   "outputs": [
    {
     "data": {
      "text/plain": [
       "31449601"
      ]
     },
     "execution_count": 4,
     "metadata": {},
     "output_type": "execute_result"
    }
   ],
   "source": [
    "len(date_range)"
   ]
  },
  {
   "cell_type": "code",
   "execution_count": 5,
   "id": "9bbf1040-b6b0-448d-927e-3189ade6c87c",
   "metadata": {
    "tags": []
   },
   "outputs": [],
   "source": [
    "df = pd.DataFrame({'date': date_range})"
   ]
  },
  {
   "cell_type": "code",
   "execution_count": 6,
   "id": "551d98e1-2ff7-4154-be4d-cdd634c640d1",
   "metadata": {
    "tags": []
   },
   "outputs": [],
   "source": [
    "df = pd.concat([df, df, df])"
   ]
  },
  {
   "cell_type": "code",
   "execution_count": 7,
   "id": "186c9ee5-ef5f-4cf9-af68-2787438a2757",
   "metadata": {
    "tags": []
   },
   "outputs": [],
   "source": [
    "li = [i for i in ascii_uppercase]"
   ]
  },
  {
   "cell_type": "code",
   "execution_count": 8,
   "id": "be90fb9b-685f-4e9c-8053-509d39a5aff3",
   "metadata": {
    "tags": []
   },
   "outputs": [],
   "source": [
    "df['abc'] = np.random.choice(li, size=len(df))\n",
    "del li"
   ]
  },
  {
   "cell_type": "code",
   "execution_count": 9,
   "id": "5c457892-5a00-4c9e-8c36-dd6eda44b5d3",
   "metadata": {
    "tags": []
   },
   "outputs": [],
   "source": [
    "df['abc'] = df['abc'].astype('string')"
   ]
  },
  {
   "cell_type": "code",
   "execution_count": 10,
   "id": "846c5cbf-be9a-4263-958c-92130839c085",
   "metadata": {
    "tags": []
   },
   "outputs": [],
   "source": [
    "df['num'] = np.random.randint(1000, size=len(df))"
   ]
  },
  {
   "cell_type": "code",
   "execution_count": 13,
   "id": "664dc50e-f184-4d54-bb1b-07906a9184e6",
   "metadata": {
    "tags": []
   },
   "outputs": [
    {
     "data": {
      "text/html": [
       "<div>\n",
       "<style scoped>\n",
       "    .dataframe tbody tr th:only-of-type {\n",
       "        vertical-align: middle;\n",
       "    }\n",
       "\n",
       "    .dataframe tbody tr th {\n",
       "        vertical-align: top;\n",
       "    }\n",
       "\n",
       "    .dataframe thead th {\n",
       "        text-align: right;\n",
       "    }\n",
       "</style>\n",
       "<table border=\"1\" class=\"dataframe\">\n",
       "  <thead>\n",
       "    <tr style=\"text-align: right;\">\n",
       "      <th></th>\n",
       "      <th>date</th>\n",
       "      <th>abc</th>\n",
       "      <th>num</th>\n",
       "    </tr>\n",
       "  </thead>\n",
       "  <tbody>\n",
       "    <tr>\n",
       "      <th>0</th>\n",
       "      <td>2023-01-01 00:00:00</td>\n",
       "      <td>T</td>\n",
       "      <td>946</td>\n",
       "    </tr>\n",
       "    <tr>\n",
       "      <th>1</th>\n",
       "      <td>2023-01-01 00:00:01</td>\n",
       "      <td>X</td>\n",
       "      <td>69</td>\n",
       "    </tr>\n",
       "    <tr>\n",
       "      <th>2</th>\n",
       "      <td>2023-01-01 00:00:02</td>\n",
       "      <td>T</td>\n",
       "      <td>163</td>\n",
       "    </tr>\n",
       "    <tr>\n",
       "      <th>3</th>\n",
       "      <td>2023-01-01 00:00:03</td>\n",
       "      <td>Z</td>\n",
       "      <td>132</td>\n",
       "    </tr>\n",
       "    <tr>\n",
       "      <th>4</th>\n",
       "      <td>2023-01-01 00:00:04</td>\n",
       "      <td>O</td>\n",
       "      <td>244</td>\n",
       "    </tr>\n",
       "    <tr>\n",
       "      <th>...</th>\n",
       "      <td>...</td>\n",
       "      <td>...</td>\n",
       "      <td>...</td>\n",
       "    </tr>\n",
       "    <tr>\n",
       "      <th>31449596</th>\n",
       "      <td>2023-12-30 23:59:56</td>\n",
       "      <td>X</td>\n",
       "      <td>64</td>\n",
       "    </tr>\n",
       "    <tr>\n",
       "      <th>31449597</th>\n",
       "      <td>2023-12-30 23:59:57</td>\n",
       "      <td>I</td>\n",
       "      <td>528</td>\n",
       "    </tr>\n",
       "    <tr>\n",
       "      <th>31449598</th>\n",
       "      <td>2023-12-30 23:59:58</td>\n",
       "      <td>H</td>\n",
       "      <td>272</td>\n",
       "    </tr>\n",
       "    <tr>\n",
       "      <th>31449599</th>\n",
       "      <td>2023-12-30 23:59:59</td>\n",
       "      <td>W</td>\n",
       "      <td>62</td>\n",
       "    </tr>\n",
       "    <tr>\n",
       "      <th>31449600</th>\n",
       "      <td>2023-12-31 00:00:00</td>\n",
       "      <td>T</td>\n",
       "      <td>917</td>\n",
       "    </tr>\n",
       "  </tbody>\n",
       "</table>\n",
       "<p>94348803 rows × 3 columns</p>\n",
       "</div>"
      ],
      "text/plain": [
       "                        date abc  num\n",
       "0        2023-01-01 00:00:00   T  946\n",
       "1        2023-01-01 00:00:01   X   69\n",
       "2        2023-01-01 00:00:02   T  163\n",
       "3        2023-01-01 00:00:03   Z  132\n",
       "4        2023-01-01 00:00:04   O  244\n",
       "...                      ...  ..  ...\n",
       "31449596 2023-12-30 23:59:56   X   64\n",
       "31449597 2023-12-30 23:59:57   I  528\n",
       "31449598 2023-12-30 23:59:58   H  272\n",
       "31449599 2023-12-30 23:59:59   W   62\n",
       "31449600 2023-12-31 00:00:00   T  917\n",
       "\n",
       "[94348803 rows x 3 columns]"
      ]
     },
     "metadata": {},
     "output_type": "display_data"
    }
   ],
   "source": [
    "display(df)"
   ]
  },
  {
   "cell_type": "code",
   "execution_count": 11,
   "id": "696cc118-b8cc-400d-adb1-ccd9784b651f",
   "metadata": {
    "tags": []
   },
   "outputs": [
    {
     "data": {
      "text/plain": [
       "(94348803, 3)"
      ]
     },
     "execution_count": 11,
     "metadata": {},
     "output_type": "execute_result"
    }
   ],
   "source": [
    "df.shape"
   ]
  },
  {
   "cell_type": "markdown",
   "id": "6ee4b793-202d-45fe-b182-44e7e2e22c4c",
   "metadata": {
    "tags": []
   },
   "source": [
    "# считывание и процессинг"
   ]
  },
  {
   "cell_type": "code",
   "execution_count": 12,
   "id": "c77ca2e1-7679-434d-9fcf-0025fcfbd312",
   "metadata": {
    "tags": []
   },
   "outputs": [],
   "source": [
    "df.dropna(inplace=True)"
   ]
  },
  {
   "cell_type": "code",
   "execution_count": 13,
   "id": "d3e7b623-f9b5-47a0-9418-ed4682b75a93",
   "metadata": {
    "tags": []
   },
   "outputs": [],
   "source": [
    "df.drop_duplicates(inplace=True)"
   ]
  },
  {
   "cell_type": "code",
   "execution_count": 14,
   "id": "1063e149-caba-4a7c-8c5d-8d4b65370893",
   "metadata": {
    "tags": []
   },
   "outputs": [
    {
     "data": {
      "text/plain": [
       "(94345186, 3)"
      ]
     },
     "execution_count": 14,
     "metadata": {},
     "output_type": "execute_result"
    }
   ],
   "source": [
    "df.shape"
   ]
  },
  {
   "cell_type": "code",
   "execution_count": 15,
   "id": "95e826f3-6643-4a54-a9f8-014f367b67ff",
   "metadata": {
    "tags": []
   },
   "outputs": [],
   "source": [
    "df = df[(df['date'].dt.hour < 1) | (df['date'].dt.hour > 3)]"
   ]
  },
  {
   "cell_type": "code",
   "execution_count": 16,
   "id": "f3ae6211-a483-483d-8cf7-01e61eef43a2",
   "metadata": {
    "tags": []
   },
   "outputs": [
    {
     "data": {
      "text/plain": [
       "(82552009, 3)"
      ]
     },
     "execution_count": 16,
     "metadata": {},
     "output_type": "execute_result"
    }
   ],
   "source": [
    "df.shape"
   ]
  },
  {
   "cell_type": "code",
   "execution_count": 17,
   "id": "06c60b32-356f-42f4-a3e1-3a912b838441",
   "metadata": {
    "tags": []
   },
   "outputs": [
    {
     "data": {
      "text/html": [
       "<div>\n",
       "<style scoped>\n",
       "    .dataframe tbody tr th:only-of-type {\n",
       "        vertical-align: middle;\n",
       "    }\n",
       "\n",
       "    .dataframe tbody tr th {\n",
       "        vertical-align: top;\n",
       "    }\n",
       "\n",
       "    .dataframe thead th {\n",
       "        text-align: right;\n",
       "    }\n",
       "</style>\n",
       "<table border=\"1\" class=\"dataframe\">\n",
       "  <thead>\n",
       "    <tr style=\"text-align: right;\">\n",
       "      <th></th>\n",
       "      <th>date</th>\n",
       "      <th>abc</th>\n",
       "      <th>num</th>\n",
       "    </tr>\n",
       "  </thead>\n",
       "  <tbody>\n",
       "    <tr>\n",
       "      <th>0</th>\n",
       "      <td>2023-01-01 00:00:00</td>\n",
       "      <td>O</td>\n",
       "      <td>887</td>\n",
       "    </tr>\n",
       "    <tr>\n",
       "      <th>1</th>\n",
       "      <td>2023-01-01 00:00:01</td>\n",
       "      <td>T</td>\n",
       "      <td>588</td>\n",
       "    </tr>\n",
       "    <tr>\n",
       "      <th>2</th>\n",
       "      <td>2023-01-01 00:00:02</td>\n",
       "      <td>C</td>\n",
       "      <td>523</td>\n",
       "    </tr>\n",
       "    <tr>\n",
       "      <th>3</th>\n",
       "      <td>2023-01-01 00:00:03</td>\n",
       "      <td>M</td>\n",
       "      <td>919</td>\n",
       "    </tr>\n",
       "    <tr>\n",
       "      <th>4</th>\n",
       "      <td>2023-01-01 00:00:04</td>\n",
       "      <td>K</td>\n",
       "      <td>533</td>\n",
       "    </tr>\n",
       "    <tr>\n",
       "      <th>...</th>\n",
       "      <td>...</td>\n",
       "      <td>...</td>\n",
       "      <td>...</td>\n",
       "    </tr>\n",
       "    <tr>\n",
       "      <th>31449596</th>\n",
       "      <td>2023-12-30 23:59:56</td>\n",
       "      <td>S</td>\n",
       "      <td>389</td>\n",
       "    </tr>\n",
       "    <tr>\n",
       "      <th>31449597</th>\n",
       "      <td>2023-12-30 23:59:57</td>\n",
       "      <td>S</td>\n",
       "      <td>980</td>\n",
       "    </tr>\n",
       "    <tr>\n",
       "      <th>31449598</th>\n",
       "      <td>2023-12-30 23:59:58</td>\n",
       "      <td>N</td>\n",
       "      <td>478</td>\n",
       "    </tr>\n",
       "    <tr>\n",
       "      <th>31449599</th>\n",
       "      <td>2023-12-30 23:59:59</td>\n",
       "      <td>C</td>\n",
       "      <td>511</td>\n",
       "    </tr>\n",
       "    <tr>\n",
       "      <th>31449600</th>\n",
       "      <td>2023-12-31 00:00:00</td>\n",
       "      <td>M</td>\n",
       "      <td>586</td>\n",
       "    </tr>\n",
       "  </tbody>\n",
       "</table>\n",
       "<p>82552009 rows × 3 columns</p>\n",
       "</div>"
      ],
      "text/plain": [
       "                        date abc  num\n",
       "0        2023-01-01 00:00:00   O  887\n",
       "1        2023-01-01 00:00:01   T  588\n",
       "2        2023-01-01 00:00:02   C  523\n",
       "3        2023-01-01 00:00:03   M  919\n",
       "4        2023-01-01 00:00:04   K  533\n",
       "...                      ...  ..  ...\n",
       "31449596 2023-12-30 23:59:56   S  389\n",
       "31449597 2023-12-30 23:59:57   S  980\n",
       "31449598 2023-12-30 23:59:58   N  478\n",
       "31449599 2023-12-30 23:59:59   C  511\n",
       "31449600 2023-12-31 00:00:00   M  586\n",
       "\n",
       "[82552009 rows x 3 columns]"
      ]
     },
     "execution_count": 17,
     "metadata": {},
     "output_type": "execute_result"
    }
   ],
   "source": [
    "df"
   ]
  },
  {
   "cell_type": "markdown",
   "id": "389fe2a3-ebc9-4fd1-904f-680c0c9e6772",
   "metadata": {},
   "source": [
    "# Расчет метрик"
   ]
  },
  {
   "cell_type": "code",
   "execution_count": 20,
   "id": "1d7c4316-efba-481d-9ca8-a7123a4ead38",
   "metadata": {
    "tags": []
   },
   "outputs": [
    {
     "data": {
      "text/plain": [
       "Index(['date', 'abc', 'num'], dtype='object')"
      ]
     },
     "execution_count": 20,
     "metadata": {},
     "output_type": "execute_result"
    }
   ],
   "source": [
    "df.columns"
   ]
  },
  {
   "cell_type": "code",
   "execution_count": 56,
   "id": "0338788a-aa58-4d33-b541-9111cbdb9eec",
   "metadata": {
    "tags": []
   },
   "outputs": [
    {
     "data": {
      "text/plain": [
       "26"
      ]
     },
     "execution_count": 56,
     "metadata": {},
     "output_type": "execute_result"
    }
   ],
   "source": [
    "# количество уникальных string\n",
    "df['abc'].nunique()"
   ]
  },
  {
   "cell_type": "raw",
   "id": "736849f3-8acf-4312-a19c-d0babb6f7d54",
   "metadata": {},
   "source": [
    "SQL\n",
    "SELECT COUNT(DISTINCT abc) FROM table"
   ]
  },
  {
   "cell_type": "code",
   "execution_count": 21,
   "id": "f769942c-e5c3-44c0-baa1-b8bcf9108624",
   "metadata": {
    "tags": []
   },
   "outputs": [
    {
     "name": "stderr",
     "output_type": "stream",
     "text": [
      "/var/folders/tq/ktg80txs4l321g9zq30s4dm00000gp/T/ipykernel_54785/297645862.py:1: SettingWithCopyWarning: \n",
      "A value is trying to be set on a copy of a slice from a DataFrame.\n",
      "Try using .loc[row_indexer,col_indexer] = value instead\n",
      "\n",
      "See the caveats in the documentation: https://pandas.pydata.org/pandas-docs/stable/user_guide/indexing.html#returning-a-view-versus-a-copy\n",
      "  df['hour'] = df['date'].dt.hour\n"
     ]
    }
   ],
   "source": [
    "df['hour'] = df['date'].dt.hour"
   ]
  },
  {
   "cell_type": "code",
   "execution_count": 22,
   "id": "da74250f-c6be-45ce-9a7a-c646fd8de2af",
   "metadata": {
    "tags": []
   },
   "outputs": [],
   "source": [
    "df_agg = df.groupby('hour').agg({'date': 'count', 'num': ['mean', 'median']})\n",
    "df_agg.columns = ['_'.join(col).strip() for col in df_agg.columns.values]"
   ]
  },
  {
   "cell_type": "raw",
   "id": "3712c397-0204-433b-86a2-f6b20cbafecd",
   "metadata": {},
   "source": [
    "SQL\n",
    "SELECT \n",
    "    hour,\n",
    "    COUNT(date),\n",
    "    AVG(num),\n",
    "    PERCENTILE_CONT(0.5) WITHIN GROUP (ORDER BY num)\n",
    "FROM df\n",
    "GROUP BY hour;"
   ]
  },
  {
   "cell_type": "code",
   "execution_count": 23,
   "id": "f93f83ed-2a6d-4031-9a01-8ce84bea95d0",
   "metadata": {
    "tags": []
   },
   "outputs": [
    {
     "data": {
      "text/html": [
       "<div>\n",
       "<style scoped>\n",
       "    .dataframe tbody tr th:only-of-type {\n",
       "        vertical-align: middle;\n",
       "    }\n",
       "\n",
       "    .dataframe tbody tr th {\n",
       "        vertical-align: top;\n",
       "    }\n",
       "\n",
       "    .dataframe thead th {\n",
       "        text-align: right;\n",
       "    }\n",
       "</style>\n",
       "<table border=\"1\" class=\"dataframe\">\n",
       "  <thead>\n",
       "    <tr style=\"text-align: right;\">\n",
       "      <th></th>\n",
       "      <th>date_count</th>\n",
       "      <th>num_mean</th>\n",
       "      <th>num_median</th>\n",
       "    </tr>\n",
       "    <tr>\n",
       "      <th>hour</th>\n",
       "      <th></th>\n",
       "      <th></th>\n",
       "      <th></th>\n",
       "    </tr>\n",
       "  </thead>\n",
       "  <tbody>\n",
       "    <tr>\n",
       "      <th>0</th>\n",
       "      <td>3931051</td>\n",
       "      <td>499.472396</td>\n",
       "      <td>499.0</td>\n",
       "    </tr>\n",
       "    <tr>\n",
       "      <th>4</th>\n",
       "      <td>3931067</td>\n",
       "      <td>499.851321</td>\n",
       "      <td>500.0</td>\n",
       "    </tr>\n",
       "    <tr>\n",
       "      <th>5</th>\n",
       "      <td>3931059</td>\n",
       "      <td>499.384545</td>\n",
       "      <td>499.0</td>\n",
       "    </tr>\n",
       "    <tr>\n",
       "      <th>6</th>\n",
       "      <td>3931033</td>\n",
       "      <td>499.471555</td>\n",
       "      <td>500.0</td>\n",
       "    </tr>\n",
       "    <tr>\n",
       "      <th>7</th>\n",
       "      <td>3931034</td>\n",
       "      <td>499.429407</td>\n",
       "      <td>499.0</td>\n",
       "    </tr>\n",
       "    <tr>\n",
       "      <th>8</th>\n",
       "      <td>3931058</td>\n",
       "      <td>499.475043</td>\n",
       "      <td>499.0</td>\n",
       "    </tr>\n",
       "    <tr>\n",
       "      <th>9</th>\n",
       "      <td>3931031</td>\n",
       "      <td>499.361591</td>\n",
       "      <td>499.0</td>\n",
       "    </tr>\n",
       "    <tr>\n",
       "      <th>10</th>\n",
       "      <td>3931036</td>\n",
       "      <td>499.239120</td>\n",
       "      <td>499.0</td>\n",
       "    </tr>\n",
       "    <tr>\n",
       "      <th>11</th>\n",
       "      <td>3931067</td>\n",
       "      <td>499.412247</td>\n",
       "      <td>499.0</td>\n",
       "    </tr>\n",
       "    <tr>\n",
       "      <th>12</th>\n",
       "      <td>3931051</td>\n",
       "      <td>499.697726</td>\n",
       "      <td>500.0</td>\n",
       "    </tr>\n",
       "    <tr>\n",
       "      <th>13</th>\n",
       "      <td>3931027</td>\n",
       "      <td>499.664009</td>\n",
       "      <td>500.0</td>\n",
       "    </tr>\n",
       "    <tr>\n",
       "      <th>14</th>\n",
       "      <td>3931049</td>\n",
       "      <td>499.559209</td>\n",
       "      <td>500.0</td>\n",
       "    </tr>\n",
       "    <tr>\n",
       "      <th>15</th>\n",
       "      <td>3931061</td>\n",
       "      <td>499.406035</td>\n",
       "      <td>500.0</td>\n",
       "    </tr>\n",
       "    <tr>\n",
       "      <th>16</th>\n",
       "      <td>3931052</td>\n",
       "      <td>499.520753</td>\n",
       "      <td>499.0</td>\n",
       "    </tr>\n",
       "    <tr>\n",
       "      <th>17</th>\n",
       "      <td>3931029</td>\n",
       "      <td>499.325604</td>\n",
       "      <td>499.0</td>\n",
       "    </tr>\n",
       "    <tr>\n",
       "      <th>18</th>\n",
       "      <td>3931065</td>\n",
       "      <td>499.525472</td>\n",
       "      <td>500.0</td>\n",
       "    </tr>\n",
       "    <tr>\n",
       "      <th>19</th>\n",
       "      <td>3931051</td>\n",
       "      <td>499.538684</td>\n",
       "      <td>499.0</td>\n",
       "    </tr>\n",
       "    <tr>\n",
       "      <th>20</th>\n",
       "      <td>3931048</td>\n",
       "      <td>499.416318</td>\n",
       "      <td>499.0</td>\n",
       "    </tr>\n",
       "    <tr>\n",
       "      <th>21</th>\n",
       "      <td>3931048</td>\n",
       "      <td>499.725180</td>\n",
       "      <td>500.0</td>\n",
       "    </tr>\n",
       "    <tr>\n",
       "      <th>22</th>\n",
       "      <td>3931068</td>\n",
       "      <td>499.524930</td>\n",
       "      <td>500.0</td>\n",
       "    </tr>\n",
       "    <tr>\n",
       "      <th>23</th>\n",
       "      <td>3931024</td>\n",
       "      <td>499.360025</td>\n",
       "      <td>499.0</td>\n",
       "    </tr>\n",
       "  </tbody>\n",
       "</table>\n",
       "</div>"
      ],
      "text/plain": [
       "      date_count    num_mean  num_median\n",
       "hour                                    \n",
       "0        3931051  499.472396       499.0\n",
       "4        3931067  499.851321       500.0\n",
       "5        3931059  499.384545       499.0\n",
       "6        3931033  499.471555       500.0\n",
       "7        3931034  499.429407       499.0\n",
       "8        3931058  499.475043       499.0\n",
       "9        3931031  499.361591       499.0\n",
       "10       3931036  499.239120       499.0\n",
       "11       3931067  499.412247       499.0\n",
       "12       3931051  499.697726       500.0\n",
       "13       3931027  499.664009       500.0\n",
       "14       3931049  499.559209       500.0\n",
       "15       3931061  499.406035       500.0\n",
       "16       3931052  499.520753       499.0\n",
       "17       3931029  499.325604       499.0\n",
       "18       3931065  499.525472       500.0\n",
       "19       3931051  499.538684       499.0\n",
       "20       3931048  499.416318       499.0\n",
       "21       3931048  499.725180       500.0\n",
       "22       3931068  499.524930       500.0\n",
       "23       3931024  499.360025       499.0"
      ]
     },
     "execution_count": 23,
     "metadata": {},
     "output_type": "execute_result"
    }
   ],
   "source": [
    "df_agg"
   ]
  },
  {
   "cell_type": "markdown",
   "id": "6fd26e79-0bff-4d15-92fd-c6ac11d2f12c",
   "metadata": {},
   "source": [
    "# мерж с метриками"
   ]
  },
  {
   "cell_type": "code",
   "execution_count": 24,
   "id": "1e5cfa5b-001e-404d-add9-18798240d371",
   "metadata": {
    "tags": []
   },
   "outputs": [],
   "source": [
    "df_merged = pd.merge(df, df_agg, left_on='hour', right_index=True, how='left')"
   ]
  },
  {
   "cell_type": "code",
   "execution_count": 25,
   "id": "1ef83702-63a9-433e-a2ea-3c2be5538e5b",
   "metadata": {
    "tags": []
   },
   "outputs": [
    {
     "data": {
      "text/html": [
       "<div>\n",
       "<style scoped>\n",
       "    .dataframe tbody tr th:only-of-type {\n",
       "        vertical-align: middle;\n",
       "    }\n",
       "\n",
       "    .dataframe tbody tr th {\n",
       "        vertical-align: top;\n",
       "    }\n",
       "\n",
       "    .dataframe thead th {\n",
       "        text-align: right;\n",
       "    }\n",
       "</style>\n",
       "<table border=\"1\" class=\"dataframe\">\n",
       "  <thead>\n",
       "    <tr style=\"text-align: right;\">\n",
       "      <th></th>\n",
       "      <th>date</th>\n",
       "      <th>abc</th>\n",
       "      <th>num</th>\n",
       "      <th>hour</th>\n",
       "      <th>date_count</th>\n",
       "      <th>num_mean</th>\n",
       "      <th>num_median</th>\n",
       "    </tr>\n",
       "  </thead>\n",
       "  <tbody>\n",
       "    <tr>\n",
       "      <th>0</th>\n",
       "      <td>2023-01-01 00:00:00</td>\n",
       "      <td>O</td>\n",
       "      <td>887</td>\n",
       "      <td>0</td>\n",
       "      <td>3931051</td>\n",
       "      <td>499.472396</td>\n",
       "      <td>499.0</td>\n",
       "    </tr>\n",
       "    <tr>\n",
       "      <th>1</th>\n",
       "      <td>2023-01-01 00:00:01</td>\n",
       "      <td>T</td>\n",
       "      <td>588</td>\n",
       "      <td>0</td>\n",
       "      <td>3931051</td>\n",
       "      <td>499.472396</td>\n",
       "      <td>499.0</td>\n",
       "    </tr>\n",
       "    <tr>\n",
       "      <th>2</th>\n",
       "      <td>2023-01-01 00:00:02</td>\n",
       "      <td>C</td>\n",
       "      <td>523</td>\n",
       "      <td>0</td>\n",
       "      <td>3931051</td>\n",
       "      <td>499.472396</td>\n",
       "      <td>499.0</td>\n",
       "    </tr>\n",
       "    <tr>\n",
       "      <th>3</th>\n",
       "      <td>2023-01-01 00:00:03</td>\n",
       "      <td>M</td>\n",
       "      <td>919</td>\n",
       "      <td>0</td>\n",
       "      <td>3931051</td>\n",
       "      <td>499.472396</td>\n",
       "      <td>499.0</td>\n",
       "    </tr>\n",
       "    <tr>\n",
       "      <th>4</th>\n",
       "      <td>2023-01-01 00:00:04</td>\n",
       "      <td>K</td>\n",
       "      <td>533</td>\n",
       "      <td>0</td>\n",
       "      <td>3931051</td>\n",
       "      <td>499.472396</td>\n",
       "      <td>499.0</td>\n",
       "    </tr>\n",
       "    <tr>\n",
       "      <th>...</th>\n",
       "      <td>...</td>\n",
       "      <td>...</td>\n",
       "      <td>...</td>\n",
       "      <td>...</td>\n",
       "      <td>...</td>\n",
       "      <td>...</td>\n",
       "      <td>...</td>\n",
       "    </tr>\n",
       "    <tr>\n",
       "      <th>31449596</th>\n",
       "      <td>2023-12-30 23:59:56</td>\n",
       "      <td>S</td>\n",
       "      <td>389</td>\n",
       "      <td>23</td>\n",
       "      <td>3931024</td>\n",
       "      <td>499.360025</td>\n",
       "      <td>499.0</td>\n",
       "    </tr>\n",
       "    <tr>\n",
       "      <th>31449597</th>\n",
       "      <td>2023-12-30 23:59:57</td>\n",
       "      <td>S</td>\n",
       "      <td>980</td>\n",
       "      <td>23</td>\n",
       "      <td>3931024</td>\n",
       "      <td>499.360025</td>\n",
       "      <td>499.0</td>\n",
       "    </tr>\n",
       "    <tr>\n",
       "      <th>31449598</th>\n",
       "      <td>2023-12-30 23:59:58</td>\n",
       "      <td>N</td>\n",
       "      <td>478</td>\n",
       "      <td>23</td>\n",
       "      <td>3931024</td>\n",
       "      <td>499.360025</td>\n",
       "      <td>499.0</td>\n",
       "    </tr>\n",
       "    <tr>\n",
       "      <th>31449599</th>\n",
       "      <td>2023-12-30 23:59:59</td>\n",
       "      <td>C</td>\n",
       "      <td>511</td>\n",
       "      <td>23</td>\n",
       "      <td>3931024</td>\n",
       "      <td>499.360025</td>\n",
       "      <td>499.0</td>\n",
       "    </tr>\n",
       "    <tr>\n",
       "      <th>31449600</th>\n",
       "      <td>2023-12-31 00:00:00</td>\n",
       "      <td>M</td>\n",
       "      <td>586</td>\n",
       "      <td>0</td>\n",
       "      <td>3931051</td>\n",
       "      <td>499.472396</td>\n",
       "      <td>499.0</td>\n",
       "    </tr>\n",
       "  </tbody>\n",
       "</table>\n",
       "<p>82552009 rows × 7 columns</p>\n",
       "</div>"
      ],
      "text/plain": [
       "                        date abc  num  hour  date_count    num_mean  \\\n",
       "0        2023-01-01 00:00:00   O  887     0     3931051  499.472396   \n",
       "1        2023-01-01 00:00:01   T  588     0     3931051  499.472396   \n",
       "2        2023-01-01 00:00:02   C  523     0     3931051  499.472396   \n",
       "3        2023-01-01 00:00:03   M  919     0     3931051  499.472396   \n",
       "4        2023-01-01 00:00:04   K  533     0     3931051  499.472396   \n",
       "...                      ...  ..  ...   ...         ...         ...   \n",
       "31449596 2023-12-30 23:59:56   S  389    23     3931024  499.360025   \n",
       "31449597 2023-12-30 23:59:57   S  980    23     3931024  499.360025   \n",
       "31449598 2023-12-30 23:59:58   N  478    23     3931024  499.360025   \n",
       "31449599 2023-12-30 23:59:59   C  511    23     3931024  499.360025   \n",
       "31449600 2023-12-31 00:00:00   M  586     0     3931051  499.472396   \n",
       "\n",
       "          num_median  \n",
       "0              499.0  \n",
       "1              499.0  \n",
       "2              499.0  \n",
       "3              499.0  \n",
       "4              499.0  \n",
       "...              ...  \n",
       "31449596       499.0  \n",
       "31449597       499.0  \n",
       "31449598       499.0  \n",
       "31449599       499.0  \n",
       "31449600       499.0  \n",
       "\n",
       "[82552009 rows x 7 columns]"
      ]
     },
     "execution_count": 25,
     "metadata": {},
     "output_type": "execute_result"
    }
   ],
   "source": [
    "df_merged"
   ]
  },
  {
   "cell_type": "markdown",
   "id": "9dd1584c-16a0-4a31-a82f-ad1c2f9afaf4",
   "metadata": {},
   "source": [
    "# аналитические метрики"
   ]
  },
  {
   "cell_type": "code",
   "execution_count": 26,
   "id": "e80e02e0-099e-4dc5-ac7c-f01e3d83b2ec",
   "metadata": {
    "tags": []
   },
   "outputs": [],
   "source": [
    "import matplotlib.pyplot as plt"
   ]
  },
  {
   "cell_type": "code",
   "execution_count": 16,
   "id": "217bbad7-de8c-4eb9-b1f4-5620a06b72cf",
   "metadata": {
    "tags": []
   },
   "outputs": [
    {
     "name": "stdout",
     "output_type": "stream",
     "text": [
      "Axes(0.125,0.11;0.775x0.77)\n"
     ]
    },
    {
     "data": {
      "image/png": "[encoded data removed]",
      "text/plain": [
       "<Figure size 640x480 with 1 Axes>"
      ]
     },
     "metadata": {},
     "output_type": "display_data"
    }
   ],
   "source": [
    "print(df['num'].hist())"
   ]
  },
  {
   "cell_type": "code",
   "execution_count": 28,
   "id": "3afe38c6-066d-45f4-bf17-8a16b9f89d31",
   "metadata": {
    "tags": []
   },
   "outputs": [
    {
     "data": {
      "text/plain": [
       "25.0"
      ]
     },
     "execution_count": 28,
     "metadata": {},
     "output_type": "execute_result"
    }
   ],
   "source": [
    "lower_bound = df['num'].quantile(0.025)\n",
    "lower_bound"
   ]
  },
  {
   "cell_type": "code",
   "execution_count": 29,
   "id": "9adb09a1-d804-4c3b-8618-c0393cea0352",
   "metadata": {
    "tags": []
   },
   "outputs": [
    {
     "data": {
      "text/plain": [
       "974.0"
      ]
     },
     "execution_count": 29,
     "metadata": {},
     "output_type": "execute_result"
    }
   ],
   "source": [
    "upper_bound = df['num'].quantile(0.975)\n",
    "upper_bound"
   ]
  },
  {
   "cell_type": "code",
   "execution_count": 30,
   "id": "da2a14bc-83f8-4272-9c00-fe65bc9f1323",
   "metadata": {
    "tags": []
   },
   "outputs": [],
   "source": [
    "#Чтобы построить 95% доверительный интервал для столбца num, я использовал метод quantile() столбца для расчета 2,5-го и 97,5-го процентилей, что даст вам нижнюю и верхнюю границы интервала соответственно."
   ]
  },
  {
   "cell_type": "markdown",
   "id": "9cbb7553-dff9-4db0-a1ac-b5268bfdbcf5",
   "metadata": {},
   "source": [
    "# визуализация"
   ]
  },
  {
   "cell_type": "code",
   "execution_count": 31,
   "id": "caf052b8-e719-41ca-8f09-92e2d8231dcd",
   "metadata": {
    "tags": []
   },
   "outputs": [
    {
     "data": {
      "text/plain": [
       "Index(['date', 'abc', 'num', 'hour'], dtype='object')"
      ]
     },
     "execution_count": 31,
     "metadata": {},
     "output_type": "execute_result"
    }
   ],
   "source": [
    "df.columns"
   ]
  },
  {
   "cell_type": "code",
   "execution_count": 32,
   "id": "4a1be45c-2317-46b0-b1e0-3845d3cbbc85",
   "metadata": {
    "tags": []
   },
   "outputs": [
    {
     "name": "stderr",
     "output_type": "stream",
     "text": [
      "/var/folders/tq/ktg80txs4l321g9zq30s4dm00000gp/T/ipykernel_54785/2161493741.py:1: SettingWithCopyWarning: \n",
      "A value is trying to be set on a copy of a slice from a DataFrame.\n",
      "Try using .loc[row_indexer,col_indexer] = value instead\n",
      "\n",
      "See the caveats in the documentation: https://pandas.pydata.org/pandas-docs/stable/user_guide/indexing.html#returning-a-view-versus-a-copy\n",
      "  df['month'] = df['date'].dt.month\n"
     ]
    }
   ],
   "source": [
    "df['month'] = df['date'].dt.month"
   ]
  },
  {
   "cell_type": "code",
   "execution_count": 42,
   "id": "1de1aaf5-aba1-41bd-9568-4a83bf5997fd",
   "metadata": {
    "tags": []
   },
   "outputs": [],
   "source": [
    "avg_num_by_month = df.groupby('month')['num'].mean()"
   ]
  },
  {
   "cell_type": "code",
   "execution_count": 43,
   "id": "84189482-962f-4bf3-b806-f5c089bdedfb",
   "metadata": {
    "tags": []
   },
   "outputs": [
    {
     "data": {
      "image/png": "[encoded data removed]",
      "text/plain": [
       "<Figure size 1000x600 with 1 Axes>"
      ]
     },
     "metadata": {},
     "output_type": "display_data"
    }
   ],
   "source": [
    "plt.figure(figsize=(10, 6))\n",
    "plt.plot(avg_num_by_month.index, avg_num_by_month.values, marker='o')\n",
    "plt.xlabel('month')\n",
    "plt.ylabel('Average num')\n",
    "plt.xticks(range(1, 13))\n",
    "plt.grid(True)\n",
    "plt.show()"
   ]
  },
  {
   "cell_type": "code",
   "execution_count": 44,
   "id": "4cef6245-33c1-4c4d-9851-8d2a6cf78775",
   "metadata": {
    "tags": []
   },
   "outputs": [],
   "source": [
    "import seaborn as sns"
   ]
  },
  {
   "cell_type": "code",
   "execution_count": 48,
   "id": "42170be4-6420-407d-ba1b-ea11f6ff2305",
   "metadata": {
    "tags": []
   },
   "outputs": [],
   "source": [
    "char_freq = df['abc'].value_counts().reset_index()\n",
    "char_freq.columns = ['char', 'frequency']"
   ]
  },
  {
   "cell_type": "code",
   "execution_count": 49,
   "id": "a6a712a2-fd9a-467f-91d9-37736a944e7a",
   "metadata": {
    "tags": []
   },
   "outputs": [
    {
     "data": {
      "text/html": [
       "<div>\n",
       "<style scoped>\n",
       "    .dataframe tbody tr th:only-of-type {\n",
       "        vertical-align: middle;\n",
       "    }\n",
       "\n",
       "    .dataframe tbody tr th {\n",
       "        vertical-align: top;\n",
       "    }\n",
       "\n",
       "    .dataframe thead th {\n",
       "        text-align: right;\n",
       "    }\n",
       "</style>\n",
       "<table border=\"1\" class=\"dataframe\">\n",
       "  <thead>\n",
       "    <tr style=\"text-align: right;\">\n",
       "      <th></th>\n",
       "      <th>char</th>\n",
       "      <th>frequency</th>\n",
       "    </tr>\n",
       "  </thead>\n",
       "  <tbody>\n",
       "    <tr>\n",
       "      <th>0</th>\n",
       "      <td>H</td>\n",
       "      <td>3177490</td>\n",
       "    </tr>\n",
       "    <tr>\n",
       "      <th>1</th>\n",
       "      <td>I</td>\n",
       "      <td>3177471</td>\n",
       "    </tr>\n",
       "    <tr>\n",
       "      <th>2</th>\n",
       "      <td>V</td>\n",
       "      <td>3177278</td>\n",
       "    </tr>\n",
       "    <tr>\n",
       "      <th>3</th>\n",
       "      <td>S</td>\n",
       "      <td>3177065</td>\n",
       "    </tr>\n",
       "    <tr>\n",
       "      <th>4</th>\n",
       "      <td>T</td>\n",
       "      <td>3176881</td>\n",
       "    </tr>\n",
       "    <tr>\n",
       "      <th>5</th>\n",
       "      <td>B</td>\n",
       "      <td>3176548</td>\n",
       "    </tr>\n",
       "    <tr>\n",
       "      <th>6</th>\n",
       "      <td>P</td>\n",
       "      <td>3176403</td>\n",
       "    </tr>\n",
       "    <tr>\n",
       "      <th>7</th>\n",
       "      <td>A</td>\n",
       "      <td>3176102</td>\n",
       "    </tr>\n",
       "    <tr>\n",
       "      <th>8</th>\n",
       "      <td>W</td>\n",
       "      <td>3175955</td>\n",
       "    </tr>\n",
       "    <tr>\n",
       "      <th>9</th>\n",
       "      <td>E</td>\n",
       "      <td>3175950</td>\n",
       "    </tr>\n",
       "    <tr>\n",
       "      <th>10</th>\n",
       "      <td>X</td>\n",
       "      <td>3175631</td>\n",
       "    </tr>\n",
       "    <tr>\n",
       "      <th>11</th>\n",
       "      <td>U</td>\n",
       "      <td>3175241</td>\n",
       "    </tr>\n",
       "    <tr>\n",
       "      <th>12</th>\n",
       "      <td>J</td>\n",
       "      <td>3175092</td>\n",
       "    </tr>\n",
       "    <tr>\n",
       "      <th>13</th>\n",
       "      <td>G</td>\n",
       "      <td>3174986</td>\n",
       "    </tr>\n",
       "    <tr>\n",
       "      <th>14</th>\n",
       "      <td>Y</td>\n",
       "      <td>3174872</td>\n",
       "    </tr>\n",
       "    <tr>\n",
       "      <th>15</th>\n",
       "      <td>Q</td>\n",
       "      <td>3174756</td>\n",
       "    </tr>\n",
       "    <tr>\n",
       "      <th>16</th>\n",
       "      <td>N</td>\n",
       "      <td>3174541</td>\n",
       "    </tr>\n",
       "    <tr>\n",
       "      <th>17</th>\n",
       "      <td>O</td>\n",
       "      <td>3174182</td>\n",
       "    </tr>\n",
       "    <tr>\n",
       "      <th>18</th>\n",
       "      <td>K</td>\n",
       "      <td>3174146</td>\n",
       "    </tr>\n",
       "    <tr>\n",
       "      <th>19</th>\n",
       "      <td>D</td>\n",
       "      <td>3174138</td>\n",
       "    </tr>\n",
       "    <tr>\n",
       "      <th>20</th>\n",
       "      <td>F</td>\n",
       "      <td>3173850</td>\n",
       "    </tr>\n",
       "    <tr>\n",
       "      <th>21</th>\n",
       "      <td>R</td>\n",
       "      <td>3173738</td>\n",
       "    </tr>\n",
       "    <tr>\n",
       "      <th>22</th>\n",
       "      <td>Z</td>\n",
       "      <td>3173646</td>\n",
       "    </tr>\n",
       "    <tr>\n",
       "      <th>23</th>\n",
       "      <td>M</td>\n",
       "      <td>3173127</td>\n",
       "    </tr>\n",
       "    <tr>\n",
       "      <th>24</th>\n",
       "      <td>C</td>\n",
       "      <td>3173028</td>\n",
       "    </tr>\n",
       "    <tr>\n",
       "      <th>25</th>\n",
       "      <td>L</td>\n",
       "      <td>3169892</td>\n",
       "    </tr>\n",
       "  </tbody>\n",
       "</table>\n",
       "</div>"
      ],
      "text/plain": [
       "   char  frequency\n",
       "0     H    3177490\n",
       "1     I    3177471\n",
       "2     V    3177278\n",
       "3     S    3177065\n",
       "4     T    3176881\n",
       "5     B    3176548\n",
       "6     P    3176403\n",
       "7     A    3176102\n",
       "8     W    3175955\n",
       "9     E    3175950\n",
       "10    X    3175631\n",
       "11    U    3175241\n",
       "12    J    3175092\n",
       "13    G    3174986\n",
       "14    Y    3174872\n",
       "15    Q    3174756\n",
       "16    N    3174541\n",
       "17    O    3174182\n",
       "18    K    3174146\n",
       "19    D    3174138\n",
       "20    F    3173850\n",
       "21    R    3173738\n",
       "22    Z    3173646\n",
       "23    M    3173127\n",
       "24    C    3173028\n",
       "25    L    3169892"
      ]
     },
     "execution_count": 49,
     "metadata": {},
     "output_type": "execute_result"
    }
   ],
   "source": [
    "char_freq"
   ]
  },
  {
   "cell_type": "code",
   "execution_count": 50,
   "id": "c13edd43-252a-4dc1-b795-4aae3dd32f2a",
   "metadata": {
    "tags": []
   },
   "outputs": [
    {
     "data": {
      "image/png": "[encoded data removed]",
      "text/plain": [
       "<Figure size 1000x600 with 2 Axes>"
      ]
     },
     "metadata": {},
     "output_type": "display_data"
    }
   ],
   "source": [
    "plt.figure(figsize=(10, 6))\n",
    "heatmap_data = pd.pivot_table(char_freq, values='frequency', index='char', aggfunc='sum')\n",
    "sns.heatmap(heatmap_data, cmap='YlGnBu', annot=True, fmt='g')\n",
    "plt.xlabel('Month')\n",
    "plt.ylabel('Character')\n",
    "plt.show()"
   ]
  },
  {
   "cell_type": "markdown",
   "id": "6f2652b3-ae0c-4678-8118-795f2be76cc9",
   "metadata": {},
   "source": [
    "# доп задание"
   ]
  },
  {
   "cell_type": "code",
   "execution_count": 51,
   "id": "a56e2b32-98fe-4455-950b-d78aaefbe376",
   "metadata": {
    "tags": []
   },
   "outputs": [
    {
     "data": {
      "text/plain": [
       "(82552009, 5)"
      ]
     },
     "execution_count": 51,
     "metadata": {},
     "output_type": "execute_result"
    }
   ],
   "source": [
    "df.shape"
   ]
  },
  {
   "cell_type": "code",
   "execution_count": 52,
   "id": "369b95da-1756-46dc-a769-bbfcedab928d",
   "metadata": {},
   "outputs": [],
   "source": [
    "np.random.seed(0)\n",
    "n = len(df)\n",
    "split_1 = int(0.25 * n)\n",
    "split_2 = int(0.50 * n)\n",
    "split_3 = int(0.75 * n)\n",
    "\n",
    "df_1 = df.sample(frac=1, random_state=0).head(split_1)\n",
    "df_2 = df.sample(frac=1, random_state=0).head(split_2)[split_1:split_2]\n",
    "df_3 = df.sample(frac=1, random_state=0).tail(n - split_2)"
   ]
  },
  {
   "cell_type": "code",
   "execution_count": 53,
   "id": "a0e2efa5-2d4e-41b0-9c08-470c347347ad",
   "metadata": {},
   "outputs": [
    {
     "data": {
      "text/plain": [
       "((20638002, 5), (20638002, 5), (41276005, 5))"
      ]
     },
     "execution_count": 53,
     "metadata": {},
     "output_type": "execute_result"
    }
   ],
   "source": [
    "df_1.shape, df_2.shape, df_3.shape"
   ]
  },
  {
   "cell_type": "code",
   "execution_count": null,
   "id": "da0fc077-1eb7-4698-b511-ad10e865e8ed",
   "metadata": {},
   "outputs": [],
   "source": []
  },
  {
   "cell_type": "code",
   "execution_count": null,
   "id": "1261f7c8-a16b-4247-99c4-3110de6e51f8",
   "metadata": {},
   "outputs": [],
   "source": []
  },
  {
   "cell_type": "code",
   "execution_count": null,
   "id": "65007b0a-8291-478b-9bdf-eef8b1c378d5",
   "metadata": {},
   "outputs": [],
   "source": []
  },
  {
   "cell_type": "code",
   "execution_count": null,
   "id": "dbf2399b-191e-4b8d-b8a8-2fb20ac8c3e1",
   "metadata": {},
   "outputs": [],
   "source": []
  },
  {
   "cell_type": "code",
   "execution_count": null,
   "id": "033e4331-9507-4364-913e-28d4f1baa4ff",
   "metadata": {},
   "outputs": [],
   "source": []
  },
  {
   "cell_type": "code",
   "execution_count": null,
   "id": "ec74d057-ef3d-43e8-973c-bed3513cbb64",
   "metadata": {},
   "outputs": [],
   "source": []
  },
  {
   "cell_type": "code",
   "execution_count": null,
   "id": "4c836dbf-d6d0-42b4-8659-b2c812bdcb88",
   "metadata": {},
   "outputs": [],
   "source": []
  }
 ],
 "metadata": {
  "kernelspec": {
   "display_name": "Python 3 (ipykernel)",
   "language": "python",
   "name": "python3"
  },
  "language_info": {
   "codemirror_mode": {
    "name": "ipython",
    "version": 3
   },
   "file_extension": ".py",
   "mimetype": "text/x-python",
   "name": "python",
   "nbconvert_exporter": "python",
   "pygments_lexer": "ipython3",
   "version": "3.10.5"
  }
 },
 "nbformat": 4,
 "nbformat_minor": 5
}
